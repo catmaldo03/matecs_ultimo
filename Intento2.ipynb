{
 "cells": [
  {
   "cell_type": "markdown",
   "metadata": {},
   "source": [
    "<h1>Contexto:<h1>\n",
    "Habilidades: \n",
    "- Telekinesis\n",
    "- Telepatia\n",
    "\n",
    "Se va a medir el tiempo en generaciones"
   ]
  },
  {
   "cell_type": "code",
   "execution_count": 42,
   "metadata": {},
   "outputs": [
    {
     "data": {
      "text/plain": [
       "array([0.1146, 0.1076, 0.7778])"
      ]
     },
     "execution_count": 42,
     "metadata": {},
     "output_type": "execute_result"
    }
   ],
   "source": [
    "import numpy as np\n",
    "matriz_transicion= np.array([[0.07,0.04,0.89],\n",
    "                            [0.1,0.07, 0.83],\n",
    "                            [0.15,0.17,0.68]])\n",
    "vector_v= np.array([0.28,0.26,0.46]) \n",
    "# sacar las probabilidaddes\n",
    "#Siguiente generacion T = 4 5° generacion\n",
    "ejemplo = vector_v.dot(matriz_transicion)\n",
    "ejemplo"
   ]
  },
  {
   "cell_type": "code",
   "execution_count": 43,
   "metadata": {},
   "outputs": [
    {
     "name": "stdout",
     "output_type": "stream",
     "text": [
      "[[0.1424 0.1569 0.7007]\n",
      " [0.1385 0.15   0.7115]\n",
      " [0.1295 0.1335 0.737 ]]\n"
     ]
    }
   ],
   "source": [
    "#6° generacion\n",
    "ejemplo2 = np.linalg.matrix_power(matriz_transicion, 2)\n",
    "print(ejemplo2)"
   ]
  },
  {
   "cell_type": "code",
   "execution_count": 44,
   "metadata": {},
   "outputs": [
    {
     "data": {
      "text/plain": [
       "array([0.13194674, 0.13795704, 0.73009622])"
      ]
     },
     "execution_count": 44,
     "metadata": {},
     "output_type": "execute_result"
    }
   ],
   "source": [
    "ejemplo_vector = ejemplo.dot(ejemplo2)\n",
    "ejemplo_vector"
   ]
  },
  {
   "cell_type": "code",
   "execution_count": 45,
   "metadata": {},
   "outputs": [
    {
     "name": "stdout",
     "output_type": "stream",
     "text": [
      "[[0.130763 0.135798 0.733439]\n",
      " [0.13142  0.136995 0.731585]\n",
      " [0.132965 0.139815 0.72722 ]]\n"
     ]
    }
   ],
   "source": [
    "#7° Generacion\n",
    "ejemplo2 = np.linalg.matrix_power(matriz_transicion, 3)\n",
    "print(ejemplo2)"
   ]
  },
  {
   "cell_type": "code",
   "execution_count": 46,
   "metadata": {},
   "outputs": [
    {
     "data": {
      "text/plain": [
       "array([0.13246131, 0.13889593, 0.72864276])"
      ]
     },
     "execution_count": 46,
     "metadata": {},
     "output_type": "execute_result"
    }
   ],
   "source": [
    "ejemplo_vector2 = ejemplo_vector.dot(ejemplo2)\n",
    "ejemplo_vector2"
   ]
  }
 ],
 "metadata": {
  "kernelspec": {
   "display_name": "matecs",
   "language": "python",
   "name": "python3"
  },
  "language_info": {
   "codemirror_mode": {
    "name": "ipython",
    "version": 3
   },
   "file_extension": ".py",
   "mimetype": "text/x-python",
   "name": "python",
   "nbconvert_exporter": "python",
   "pygments_lexer": "ipython3",
   "version": "3.12.0"
  }
 },
 "nbformat": 4,
 "nbformat_minor": 2
}
